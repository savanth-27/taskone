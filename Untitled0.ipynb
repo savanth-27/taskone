{
  "nbformat": 4,
  "nbformat_minor": 0,
  "metadata": {
    "colab": {
      "provenance": [],
      "authorship_tag": "ABX9TyOCh8J+vJb5fZKxecl4IO2f",
      "include_colab_link": true
    },
    "kernelspec": {
      "name": "python3",
      "display_name": "Python 3"
    },
    "language_info": {
      "name": "python"
    }
  },
  "cells": [
    {
      "cell_type": "markdown",
      "metadata": {
        "id": "view-in-github",
        "colab_type": "text"
      },
      "source": [
        "<a href=\"https://colab.research.google.com/github/savanth-27/taskone/blob/main/Untitled0.ipynb\" target=\"_parent\"><img src=\"https://colab.research.google.com/assets/colab-badge.svg\" alt=\"Open In Colab\"/></a>"
      ]
    },
    {
      "cell_type": "code",
      "execution_count": null,
      "metadata": {
        "colab": {
          "base_uri": "https://localhost:8080/"
        },
        "id": "7C8xe6zlSLDG",
        "outputId": "a4466fc9-2fe7-4ee3-9878-9624647315a1"
      },
      "outputs": [
        {
          "output_type": "stream",
          "name": "stdout",
          "text": [
            "Predicted weather variable at x=2: 31\n"
          ]
        }
      ],
      "source": [
        "# Stage 1:Hard coding variables\n",
        "a = 5\n",
        "b = 4\n",
        "c = 3\n",
        "x = 2\n",
        "\n",
        "# Quadratic calculation:y = ax^2 + bx + c\n",
        "y = a * x**2 + b * x + c\n",
        "\n",
        "print(f\"Predicted weather variable at x={x}: {y}\")"
      ]
    },
    {
      "cell_type": "code",
      "source": [
        "# Stage 3: Read coefficients and x from a file (handles BOM)\n",
        "with open(\"data.txt\", \"r\", encoding=\"utf-8-sig\") as file: # Use encoding \"utf-8-sig\" when opening the file\n",
        "\n",
        "    line = file.readline()\n",
        "    a, b, c, x = map(float, line.split())\n",
        "\n",
        "T = a * x**2 + b * x + c\n",
        "print(f\"Predicted Temperature: {T:.2f}°C\")"
      ],
      "metadata": {
        "colab": {
          "base_uri": "https://localhost:8080/"
        },
        "id": "MzC6m3xKS6fd",
        "outputId": "5b4130d1-dcb8-43af-b280-650ed98d55cf"
      },
      "execution_count": null,
      "outputs": [
        {
          "output_type": "stream",
          "name": "stdout",
          "text": [
            "Predicted Temperature: 37.50°C\n"
          ]
        }
      ]
    },
    {
      "cell_type": "code",
      "source": [
        "a = int(input(\"Enter a: \"))\n",
        "b = int(input(\"Enter b: \"))\n",
        "c = int(input(\"Enter c: \"))\n",
        "x = int(input(\"Enter x: \"))\n",
        "\n",
        "# Quadratic calculation:y = ax^2 + bx + c\n",
        "y = a * x^2 + b*x + c\n",
        "print(f\"Predicted weather variable at x={x}: {y}\")"
      ],
      "metadata": {
        "colab": {
          "base_uri": "https://localhost:8080/"
        },
        "id": "aLTn_gjlTF-l",
        "outputId": "3c5c3733-f6eb-4368-bef9-f781ea5eb0b2"
      },
      "execution_count": null,
      "outputs": [
        {
          "output_type": "stream",
          "name": "stdout",
          "text": [
            "Enter a: 5\n",
            "Enter b: 4\n",
            "Enter c: 3\n",
            "Enter x: 2\n",
            "Predicted weather variable at x=2: 7\n"
          ]
        }
      ]
    }
  ]
}